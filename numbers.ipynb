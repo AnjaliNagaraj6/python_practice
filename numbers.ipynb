{
 "cells": [
  {
   "cell_type": "code",
   "execution_count": 1,
   "metadata": {},
   "outputs": [
    {
     "name": "stdout",
     "output_type": "stream",
     "text": [
      "<class 'str'>\n",
      "<class 'int'>\n",
      "<class 'float'>\n"
     ]
    }
   ],
   "source": [
    "x= \"anjali\"\n",
    "y=345678900\n",
    "z=1.9\n",
    "print(type(x))\n",
    "print(type(y))\n",
    "print(type(z))"
   ]
  },
  {
   "cell_type": "code",
   "execution_count": 2,
   "metadata": {},
   "outputs": [
    {
     "name": "stdout",
     "output_type": "stream",
     "text": [
      "anjalinagaraj\n",
      "23\n",
      "5.6\n"
     ]
    }
   ],
   "source": [
    "name = input(\"Enter your name:\")\n",
    "age = input(\"Enter your age:\")\n",
    "height = input(\"Enter your height:\")\n",
    "print(name)\n",
    "print(age)\n",
    "print(height)"
   ]
  },
  {
   "cell_type": "code",
   "execution_count": 3,
   "metadata": {},
   "outputs": [
    {
     "name": "stdout",
     "output_type": "stream",
     "text": [
      "anjalinagarj\n",
      "23\n",
      "5.6\n"
     ]
    }
   ],
   "source": [
    "name = str(input(\"Enter your name:\"))\n",
    "age = int(input(\"Enter your age:\"))\n",
    "height = float(input(\"Enter your height:\"))\n",
    "print(name)\n",
    "print(age)\n",
    "print(height)\n"
   ]
  },
  {
   "cell_type": "code",
   "execution_count": 4,
   "metadata": {},
   "outputs": [
    {
     "name": "stdout",
     "output_type": "stream",
     "text": [
      "anjalinagarj\n",
      "23\n",
      "5.6\n"
     ]
    }
   ],
   "source": [
    "print(name)\n",
    "print(age)\n",
    "print(height)\n"
   ]
  },
  {
   "cell_type": "code",
   "execution_count": 5,
   "metadata": {},
   "outputs": [
    {
     "name": "stdout",
     "output_type": "stream",
     "text": [
      "anjalinagarj 23 5.6\n"
     ]
    }
   ],
   "source": [
    "print(name,age,height)"
   ]
  },
  {
   "cell_type": "code",
   "execution_count": 6,
   "metadata": {},
   "outputs": [
    {
     "name": "stdout",
     "output_type": "stream",
     "text": [
      "the name is anjalinagarj your age is 23 your heightis 5.6\n"
     ]
    }
   ],
   "source": [
    "print(f\"the name is {name} your age is {age} your heightis {height}\")"
   ]
  },
  {
   "cell_type": "code",
   "execution_count": 7,
   "metadata": {},
   "outputs": [
    {
     "name": "stdout",
     "output_type": "stream",
     "text": [
      "your name is: anjalinagarj\n",
      "your age is: 23\n",
      "your height is: 5.6\n"
     ]
    }
   ],
   "source": [
    "print(\"your name is:\", name)\n",
    "print(\"your age is:\", age)\n",
    "print(\"your height is:\", height)"
   ]
  },
  {
   "cell_type": "code",
   "execution_count": 8,
   "metadata": {},
   "outputs": [
    {
     "name": "stdout",
     "output_type": "stream",
     "text": [
      "your name is: anjalinagarj\n",
      "your age is: 23\n",
      "your height is: 5.6\n"
     ]
    }
   ],
   "source": [
    "name = input(\"Enter your name:\")\n",
    "age = input(\"Enter your age:\")\n",
    "height = input(\"Enter your height:\")\n",
    "print(\"your name is:\", name)\n",
    "print(\"your age is:\", age)\n",
    "print(\"your height is:\", height)"
   ]
  }
 ],
 "metadata": {
  "kernelspec": {
   "display_name": "Python 3",
   "language": "python",
   "name": "python3"
  },
  "language_info": {
   "codemirror_mode": {
    "name": "ipython",
    "version": 3
   },
   "file_extension": ".py",
   "mimetype": "text/x-python",
   "name": "python",
   "nbconvert_exporter": "python",
   "pygments_lexer": "ipython3",
   "version": "3.12.4"
  }
 },
 "nbformat": 4,
 "nbformat_minor": 2
}
